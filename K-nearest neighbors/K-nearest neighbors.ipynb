{
 "cells": [
  {
   "cell_type": "markdown",
   "metadata": {},
   "source": [
    "# K-nearest Neighbors\n",
    "\n",
    "\n",
    "\n",
    "### 1. Giới thiệu\n",
    "\n",
    "K-nearest neighbors (KNN) là một trong những thuật toán Supervised learning đơn giản. Khi huấn luyện thuật toán này không học một điều gì từ dứ liệu huấn luyện mà nhớ lại một cách máy móc toàn bộ dữ liệu. KNN có thể được áp dụng vào cả classification và regression. KNN còn được gọi là thuật toán instance-based hay memory-based learning.\n",
    "\n",
    "- Trong bài toán classification, nhãn của một điểm dữ liệu mới được suy ra trực tiếp từ K điểm dữ liệu được suy ra trực tiếp từ K điểm dữ liệu gần nhất trong tập huấn luyện. Nhãn đó có thể được quyết định bằng bầu chọn theo đa số trong số K điểm gần nhất, hoặc có thể được úy ra bằng cách đánh trọng số khác nhau cho mỗi các điểm gần nhất đó rồi suy ra kết quả.\n",
    "\n",
    "- Một cách ngắn gọn KNN là thuật toán tìm ra đầu ra của một điểm dữ liệu mới bằng cách chỉ dựa trên thông tin của K điểm dữ liệu gần nhất trong tập huấn luyện.\n",
    "\n",
    "![Map1NN.png](img/Map1NN.png)\n",
    "\n",
    "(Hình 1: ví dụ về 1NN. Các hình tròn là các điểm dữ liệu huấn luyện. Cac màu khác nhau thể hiện các lớp khác nhau)\n",
    "\n",
    "\n",
    "### 2. Ví dụ trên dữ liệu Iris\n",
    "\n",
    "**Thông tin về tập dữ liệu Iris**\n",
    "\n",
    "Iris là tập dữ liệu bao gồm thông tin của 2 laoij hoa Iris khác nhau: Iris setora, Iris virginica và Iris versicolor. Đặc điểm của mỗi loại dựa trên 4 thông tin : chiều dài, chiều rộng đài hoa (sepal) và chiều dài, chiều rộng cánh hoa (petal).\n",
    "![iris.png](img/iris.png)\n",
    "\n",
    "**Bài toán**\n",
    "Tách 150 dữ liệu trong Iris flower dataset thành 2 phần, gọi là `training set` và `test set`. Thuật toán KNN sẽ dựa vào thông tin ở `training set` để dự đoán dữ liệu trong `test set` tương ứng với loại hoa nào.\n",
    "\n",
    "**Giải quyết trên Python**"
   ]
  },
  {
   "cell_type": "code",
   "execution_count": 16,
   "metadata": {},
   "outputs": [],
   "source": [
    "#Khai báo thư viên\n",
    "import numpy as np\n",
    "import matplotlib.pyplot as plt\n",
    "from sklearn import neighbors, datasets"
   ]
  },
  {
   "cell_type": "code",
   "execution_count": 17,
   "metadata": {},
   "outputs": [
    {
     "name": "stdout",
     "output_type": "stream",
     "text": [
      "Number of classes: 3\n",
      "Number of data points: 150\n",
      "\n",
      "Samples from class 0: \n",
      " [[5.1 3.5 1.4 0.2]\n",
      " [4.9 3.  1.4 0.2]\n",
      " [4.7 3.2 1.3 0.2]\n",
      " [4.6 3.1 1.5 0.2]\n",
      " [5.  3.6 1.4 0.2]]\n",
      "\n",
      "Samples from class 1: \n",
      " [[7.  3.2 4.7 1.4]\n",
      " [6.4 3.2 4.5 1.5]\n",
      " [6.9 3.1 4.9 1.5]\n",
      " [5.5 2.3 4.  1.3]\n",
      " [6.5 2.8 4.6 1.5]]\n",
      "\n",
      "Samples from class 2: \n",
      " [[6.3 3.3 6.  2.5]\n",
      " [5.8 2.7 5.1 1.9]\n",
      " [7.1 3.  5.9 2.1]\n",
      " [6.3 2.9 5.6 1.8]\n",
      " [6.5 3.  5.8 2.2]]\n"
     ]
    }
   ],
   "source": [
    "#load data\n",
    "iris =datasets.load_iris()\n",
    "iris_X = iris.data\n",
    "iris_Y = iris.target\n",
    "\n",
    "print(\"Number of classes: %d\" %len(np.unique(iris_Y)))\n",
    "print(\"Number of data points: %d\" %len(iris_X))\n",
    "\n",
    "x0 = iris_X[iris_Y == 0, :]\n",
    "print(\"\\nSamples from class 0: \\n\", x0[:5, :])\n",
    "\n",
    "x1 = iris_X[iris_Y == 1, :]\n",
    "print(\"\\nSamples from class 1: \\n\", x1[:5, :])\n",
    "\n",
    "x2 = iris_X[iris_Y == 2, :]\n",
    "print(\"\\nSamples from class 2: \\n\", x2[:5, :])\n"
   ]
  },
  {
   "cell_type": "code",
   "execution_count": 18,
   "metadata": {},
   "outputs": [
    {
     "name": "stdout",
     "output_type": "stream",
     "text": [
      "Training size: 100\n",
      "Test size: 50\n"
     ]
    }
   ],
   "source": [
    "#Tách training và test set\n",
    "from sklearn.model_selection import train_test_split\n",
    "X_train, X_test, y_train, y_test = train_test_split(iris_X, iris_Y, test_size=50)\n",
    "\n",
    "print(\"Training size: %d\" %len(y_train))\n",
    "print(\"Test size: %d\" %len(y_test))"
   ]
  },
  {
   "cell_type": "markdown",
   "metadata": {},
   "source": [
    "Xét trường hợp đơn giản K = 1, tức là với mỗi điểm test dât, ta chỉ xét 1 điểm training dât gần nhất và lấy label của điểm đó để dự đoán cho điểm test này."
   ]
  },
  {
   "cell_type": "code",
   "execution_count": 19,
   "metadata": {},
   "outputs": [
    {
     "name": "stdout",
     "output_type": "stream",
     "text": [
      "Result for 20 test data points: \n",
      "Predicted labels:  [0 1 2 0 2 1 0 2 1 1 2 0 2 0 0 2 2 2 0 2]\n",
      "Ground truth    :  [0 1 2 0 1 1 0 1 1 1 2 0 2 0 0 2 2 2 0 2]\n"
     ]
    }
   ],
   "source": [
    "clf = neighbors.KNeighborsClassifier(n_neighbors=1, p=2)\n",
    "clf.fit(X_train, y_train)\n",
    "y_pred = clf.predict(X_test)\n",
    "\n",
    "print('Result for 20 test data points: ')\n",
    "print('Predicted labels: ', y_pred[20:40])\n",
    "print('Ground truth    : ', y_test[20:40])"
   ]
  },
  {
   "cell_type": "markdown",
   "metadata": {},
   "source": [
    "Phương pháp đánh giá (evaluation method): Đơn giản là lấy số lượng dự đoán chính xác trên tổng số lượng tập test. Scrikit-learn cung cấp hàm accuracy_score để thực hiện công việc này"
   ]
  },
  {
   "cell_type": "code",
   "execution_count": 20,
   "metadata": {},
   "outputs": [
    {
     "name": "stdout",
     "output_type": "stream",
     "text": [
      "Accuracy of 1NN: 94.00%\n"
     ]
    }
   ],
   "source": [
    "from sklearn.metrics import accuracy_score\n",
    "print('Accuracy of 1NN: %.2f%%' %(100*accuracy_score(y_test, y_pred)))"
   ]
  },
  {
   "cell_type": "markdown",
   "metadata": {},
   "source": [
    "Xét trường hợp kì K=10"
   ]
  },
  {
   "cell_type": "code",
   "execution_count": 21,
   "metadata": {},
   "outputs": [
    {
     "name": "stdout",
     "output_type": "stream",
     "text": [
      "Result for 20 test data points: \n",
      "Predicted labels:  [0 1 2 0 1 1 0 1 1 1 2 0 2 0 0 2 2 2 0 2]\n",
      "Ground truth    :  [0 1 2 0 1 1 0 1 1 1 2 0 2 0 0 2 2 2 0 2]\n",
      "Accuracy of 10NN: 98.00%\n"
     ]
    }
   ],
   "source": [
    "clf = neighbors.KNeighborsClassifier(n_neighbors=10, p=2)\n",
    "clf.fit(X_train, y_train)\n",
    "y_pred = clf.predict(X_test)\n",
    "\n",
    "print('Result for 20 test data points: ')\n",
    "print('Predicted labels: ', y_pred[20:40])\n",
    "print('Ground truth    : ', y_test[20:40])\n",
    "\n",
    "print('Accuracy of 10NN: %.2f%%' %(100*accuracy_score(y_test, y_pred)))"
   ]
  },
  {
   "cell_type": "markdown",
   "metadata": {},
   "source": [
    "Ở 2 trường hợp trên, độ chính xác cũng đã tương đối cao, tuy nhiên tập dữ liệu của chúng ta ở đây còn đơn giản, ta hoàn toàn có thể nâng cao độ chính xác lên nữa thông qua việc đánh giá trọng số cho các điểm lân cận.\n",
    "\n",
    "Nếu trường hợp trên, kỹ thuật major voting cứ môi 10 điểm được coi có vai trò như nhau, tuy nhiên rõ ràng những điểm gần hơn nên có trọng số cao hơn. Vì vậy, ta có thể đánh trọng số khác nhau cho mỗi 10 điểm gần nhất này. Các điềm càng gần điểm test thì sẽ có trọng số càng cao. (Cách đơn giản là lấy nghịch đảo khoảng cách của chúng, trường hợp distance = 0 ta lấy luôn label của điểm training data)\n",
    "\n",
    "Thực hiện trên sklear:"
   ]
  },
  {
   "cell_type": "code",
   "execution_count": 22,
   "metadata": {},
   "outputs": [
    {
     "name": "stdout",
     "output_type": "stream",
     "text": [
      "Accuracy of 10NN: 98.00%\n"
     ]
    }
   ],
   "source": [
    "clf = neighbors.KNeighborsClassifier(n_neighbors=10, p=2, weights='distance')\n",
    "clf.fit(X_train, y_train)\n",
    "y_pred = clf.predict(X_test)\n",
    "\n",
    "print('Accuracy of 10NN: %.2f%%' %(100*accuracy_score(y_test, y_pred)))"
   ]
  },
  {
   "cell_type": "code",
   "execution_count": null,
   "metadata": {},
   "outputs": [],
   "source": []
  },
  {
   "cell_type": "code",
   "execution_count": null,
   "metadata": {},
   "outputs": [],
   "source": []
  }
 ],
 "metadata": {
  "kernelspec": {
   "display_name": "Python 3",
   "language": "python",
   "name": "python3"
  },
  "language_info": {
   "codemirror_mode": {
    "name": "ipython",
    "version": 3
   },
   "file_extension": ".py",
   "mimetype": "text/x-python",
   "name": "python",
   "nbconvert_exporter": "python",
   "pygments_lexer": "ipython3",
   "version": "3.7.3"
  }
 },
 "nbformat": 4,
 "nbformat_minor": 2
}
