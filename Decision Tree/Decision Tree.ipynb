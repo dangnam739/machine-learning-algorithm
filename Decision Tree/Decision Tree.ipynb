{
 "cells": [
  {
   "cell_type": "markdown",
   "metadata": {},
   "source": [
    "# Decision Tree\n",
    "\n",
    "### 1. Giới thiệu\n",
    "\n",
    "**Decision Tree**(Cây quyết định) là một trong những phương pháp phân loại, dự đoán mạnh và phổ biến nhất. \n",
    "\n",
    "**Cấu trúc của một cây quyết định**: Cấu trúc như cấu trúc cây:\n",
    "\n",
    "- Mỗi node là một kiểm tra trên một thuộc tính\n",
    "- Mỗi nhánh biểu thị một kết quả\n",
    "- Mỗi node lá là một nhãn\n",
    "\n",
    "\n",
    "Ví dụ về một cây quyết định cho việc đi chơi Tennis:\n",
    "![Decision_Tree-Tennis](img/Decision_Tree-2.png)\n",
    "\n",
    "\n",
    "**Xây dựng Cây quyết định**\n",
    "\n",
    "Một cây quyết định có thể được học bằng cách chia tập nguồn thành các tập con dựa trên việc kiểm tra giá trị thuộc tính. Quá trình này được lặp lại trên mỗi tập con theo cách đệ quy gọi là phân vùng đệ quy. Đệ quê được hoàn tất khi tại mỗi node đều có cùng giá trị của target hoặc khi phân tách không còn tăng giá trị cho các dự đoán.\n",
    "\n",
    "\n",
    "**Hình thức cây quyết định**\n",
    "\n",
    "Cây quyết định được thể hiện bằng cách sắp xếp theo thứ tự từ gốc đến một số nút lá, cung cấp sự phân loại tại đó. Mỗi cá thể được phân loại tại node gốc(root) của cây, kiểm tra thuộc tính sau đó di chuyển xuống nhánh cây tương ứng. Quá trình này được lặp lại cho cây con bắt đầu từ node mới.\n",
    "\n",
    "\n",
    "Ví dụ, trong việc quyết định việc chơi Tennis hay không ?\n",
    "\n",
    "- (Outlook = Rain, Temperature = Hot, Humidity = High, Wind = Strong ) --> được sắp xếp xuống nhánh ngoài cùng bên trái --> No\n",
    "\n",
    "- (Outlook = Sunny ^ Humidity = Normal) v (Outllok = Overcast) v (Outlook = Rain ^ Wind = Weak) --> Được sắp xếp ngoài cùng bên phải --> Yes\n",
    "\n",
    "**Ưu điểm, Nhược điểm của cây quyết định**\n",
    "\n",
    "_Ưu điểm_\n",
    "\n",
    "- Dễ hiểu, trực quan\n",
    "- Không đòi hỏi nhiều tính toán\n",
    "- Có thể xử lý cả 2 biến liên tục và phân loại\n",
    "- Cung cấp dấu hiệu rõ ràng về lĩnh vực nào là quan trọng nhất để dự đoán hoặc phân loại\n",
    "    \n",
    "_Nhược điểm_\n",
    "\n",
    "- Không thích hợp cho các bài toán ước lượng, và mục tiêu dự đoán là một hàm liên tục\n",
    "- Dễ bị lỗi trong quá trình phân loại nhiều lớp vá số lượng training tương đối nhỏ.\n",
    "- Tốn kém về việc training.\n",
    "\n",
    "\n",
    "**Các thuật toán "
   ]
  },
  {
   "cell_type": "markdown",
   "metadata": {},
   "source": [
    "### 2. Sử dụng sklearn áp dụng lên Decision Tree Regression\n",
    "\n",
    "Cây quyết định hồi quy có đặc điểm là quan các thuộc tính của đối tượng và huấn luyện mô hình trong cấu trúc của câu để dữ liệu tương lại là một đầu ra hàm liên tục"
   ]
  },
  {
   "cell_type": "code",
   "execution_count": null,
   "metadata": {},
   "outputs": [],
   "source": []
  }
 ],
 "metadata": {
  "kernelspec": {
   "display_name": "Python 3",
   "language": "python",
   "name": "python3"
  },
  "language_info": {
   "codemirror_mode": {
    "name": "ipython",
    "version": 3
   },
   "file_extension": ".py",
   "mimetype": "text/x-python",
   "name": "python",
   "nbconvert_exporter": "python",
   "pygments_lexer": "ipython3",
   "version": "3.7.3"
  }
 },
 "nbformat": 4,
 "nbformat_minor": 2
}
