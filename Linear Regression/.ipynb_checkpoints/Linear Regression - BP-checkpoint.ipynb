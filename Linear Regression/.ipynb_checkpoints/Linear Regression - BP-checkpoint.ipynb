{
 "cells": [
  {
   "cell_type": "markdown",
   "metadata": {},
   "source": [
    "# Linear Regression & Backpropagation (lan truyền ngược)"
   ]
  },
  {
   "cell_type": "markdown",
   "metadata": {},
   "source": [
    "## 1. Linear Regression\n",
    "\n",
    "Các bước trong Linear Regrssion:\n",
    "* 1. Chuẩn bị và xử lý dữ liệu\n",
    "* 2. Xây dựng mô hình\n",
    "Mô hình tổng quát của Linear Regression:\n",
    "$$ h_{\\theta} = \\theta_{0}x_{0} + \\theta_{1}x_{1} + ... + \\theta_{n}x_{n}$$\n",
    "trong đó $\\theta = (\\theta_{0}, \\theta_{1},...,\\theta_{n})$ là bộ tham số và $x = (x_0, x_1,..., x_n)$,  $h_\\theta(x)$ là giá trị tiên đoán và dựa vào bộ tham số $\\theta$ và mẫu dữ liệu x.\n",
    "* 3. Xây dựng hàm loss\n",
    "Mục đích của hàm `loss` nhằm đo mức độ khác biết (khoảng cách) giữa giá trị tiên đoán $h_\\theta(x)$ với giá trị thực y. Hàm loss phổ biến cho bài toán Linear Regression là hàm bình phương độ lệch:\n",
    "$$ J(x,y;\\theta) = (h_\\theta(x) - y)^{2}$$\n",
    "Khi muốn tính giá trị los cho toàn bộ tập dữ liệu, chungs ta tính giá trị loss trung bình như sau:\n",
    "$$ \\displaystyle J(\\theta) = \\frac{1}{m}\\sum_{i=1}^{m}(h_\\theta(x^{(i)}) - y^{(i)})^2$$\n",
    "trong đó, $(x^{(i)},y^{(i)})$ là mẫu dữ liệu thứ $i^{th}$ trong bộ dữ liệu gồm m mẫu dữ liệu.\n",
    "Chú ý, ở một số tài liệu, công thức tính giá trị loss trung bình ở trên còn chia thêm cho 2 như $ \\displaystyle J(\\theta) = \\frac{1}{2m}\\sum_{i=1}^{m}(h_\\theta(x^{(i)}) - y^{(i)})^2$ . Việc có chia cho 2 hay không không ảnh hưởng đến quá trình huấn luyện.\n",
    "* 4. Tìm bộ tham số dùng giải thuật Bachpropagation\n",
    "\n",
    "Bước đầu tiên là khởi tạo giá trị cho bộ tham số θ. Thông thường bộ tham số được khởi tạo với các giá trị nhỏ và ngẫu nhiên. Cụ thể, các giá trị ngẫu nhiên theo phân bố chuẩn (normal distribution) thường được sử dụng để khởi tạo giá trị cho bộ tham số.\n",
    "\n",
    "Tiếp đó, các bước tính feed-forward, tính loss, tính đạo hàm cho từng tham số, và cập nhật tham số được thực hiện lặp đi lặp lại cho đến khi nào đạt đến điều kiện dừng. Điều kiện dừng thường là số lần sử dụng (duyệt qua) bộ dữ liệu. Một lần duyệt qua hết các mẫu trong bộ dữ liệu được gọi là một epoch.\n",
    "\n",
    "– Tính feed-forward cho mẫu thứ ith trong bộ dữ liệu\n",
    "\n",
    "$$h_\\theta(x(^{(i)})=\\theta_0x^{(i)}_0 +\\theta_1x^{(i)}_1 + ... +\\theta_kx^{(i)}_k$$\n",
    "– Tính giá trị loss trung bình cho m mẫu dữ liệu\n",
    "\n",
    "$$ \\displaystyle J(\\theta) = \\frac{1}{m}\\sum_{i=1}^{m}(h_\\theta(x^{(i)}) - y^{(i)})^2$$\n",
    "– Tính đạo hàm cho từng tham số\n",
    "\n",
    "$$  \\frac{\\partial J(\\theta)}{\\partial \\theta_j}= \\frac{2}{m}\\sum_{i=1}^{m}(h_\\theta(x^{(i)}) - y^{(i)})x_j^{(i)} $$\n",
    "– Cập nhật tham số\n",
    "\n",
    "$$\\theta_j = \\theta_j - \\alpha \\frac{\\partial J(\\theta)}{\\partial \\theta_j}$$\n",
    "\n",
    "trong đó $\\alpha$ là learning rate  và là giá trị được xác định trước.\n",
    "\n",
    "Khi đọc các 4 công thức bên trên, các bạn cần phân biệt các biến ở dạng vector (như $x^{(i)},y^{(i)}$ và biến thông thường (như $\\theta_j,x^{(i)}_j)$.\n",
    "\n"
   ]
  },
  {
   "cell_type": "markdown",
   "metadata": {},
   "source": [
    "## 2. Ví dụ áp dụng trong dự đoán giá nhà"
   ]
  },
  {
   "cell_type": "code",
   "execution_count": 1,
   "metadata": {},
   "outputs": [],
   "source": [
    "import numpy as np\n",
    "import pandas as pd\n",
    "import matplotlib.pyplot as plt"
   ]
  },
  {
   "cell_type": "code",
   "execution_count": 2,
   "metadata": {},
   "outputs": [
    {
     "name": "stdout",
     "output_type": "stream",
     "text": [
      "(20, 1)\n"
     ]
    },
    {
     "data": {
      "image/png": "[encoded data removed]",
      "text/plain": [
       "<Figure size 432x288 with 1 Axes>"
      ]
     },
     "metadata": {
      "needs_background": "light"
     },
     "output_type": "display_data"
    }
   ],
   "source": [
    "#Xử lý data\n",
    "dataframe = pd.read_csv(\"data/my_house_price_prediction.csv\", header=None)\n",
    "# print(dataframe)\n",
    "data = dataframe.values\n",
    "\n",
    "m = data.shape[0] #number of data\n",
    "X = data[:,0]\n",
    "y = data[:,1:]\n",
    "X_train = np.concatenate(( np.ones((m,1)),X.reshape(-1,1)), axis=1)\n",
    "print(y.shape)\n",
    "\n",
    "plt.plot(X, y, 'bo')\n",
    "plt.xlabel(\"Square of house (x100$m^2$)\")\n",
    "plt.ylabel(\"Price of house\")\n",
    "plt.show()\n"
   ]
  },
  {
   "cell_type": "code",
   "execution_count": 3,
   "metadata": {},
   "outputs": [],
   "source": [
    "def batch_gradient_descent():\n",
    "    n_interations = 50\n",
    "    learning_rate = 0.01\n",
    "    \n",
    "    #Initializing\n",
    "    thetas = np.random.randn(2,1)\n",
    "    theta_path = [thetas]\n",
    "    losses = []\n",
    "    \n",
    "    for i in range(n_interations):\n",
    "        #compute output\n",
    "        h_x = np.dot(X_train, thetas)\n",
    "        \n",
    "        #compute loss\n",
    "        loss = (h_x - y)**2\n",
    "        \n",
    "        #derivative loss\n",
    "        loss_grd = 2*(h_x - y)/m\n",
    "        \n",
    "        #derviative for parameter\n",
    "        gradients = np.dot(X_train.T, loss_grd)\n",
    "        \n",
    "        #update theta\n",
    "        thetas = thetas - learning_rate*gradients\n",
    "        theta_path.append(thetas)\n",
    "        \n",
    "        mean_loss = np.sum(loss)/m\n",
    "        losses.append(mean_loss)\n",
    "        \n",
    "    return theta_path, losses\n"
   ]
  },
  {
   "cell_type": "code",
   "execution_count": 4,
   "metadata": {},
   "outputs": [
    {
     "name": "stdout",
     "output_type": "stream",
     "text": [
      "[[0.37455865]\n",
      " [1.28703432]]\n"
     ]
    },
    {
     "data": {
      "image/png": "[encoded data removed]",
      "text/plain": [
       "<Figure size 432x288 with 1 Axes>"
      ]
     },
     "metadata": {
      "needs_background": "light"
     },
     "output_type": "display_data"
    }
   ],
   "source": [
    "bgd_thetas, losses = batch_gradient_descent()\n",
    "\n",
    "plt.scatter(X,y)\n",
    "data_y = X*bgd_thetas[-1][1] + bgd_thetas[-1][0]\n",
    "print(bgd_thetas[-1])\n",
    "plt.plot(X, data_y, color='r')\n",
    "plt.show()"
   ]
  },
  {
   "cell_type": "code",
   "execution_count": null,
   "metadata": {},
   "outputs": [],
   "source": []
  }
 ],
 "metadata": {
  "kernelspec": {
   "display_name": "Python 3",
   "language": "python",
   "name": "python3"
  },
  "language_info": {
   "codemirror_mode": {
    "name": "ipython",
    "version": 3
   },
   "file_extension": ".py",
   "mimetype": "text/x-python",
   "name": "python",
   "nbconvert_exporter": "python",
   "pygments_lexer": "ipython3",
   "version": "3.7.4"
  }
 },
 "nbformat": 4,
 "nbformat_minor": 2
}
