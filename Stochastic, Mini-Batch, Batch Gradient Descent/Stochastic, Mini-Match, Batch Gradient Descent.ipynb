{
 "cells": [
  {
   "attachments": {
    "MBGD-vs-the-rest.png": {
     "image/png": "[encoded data removed]"
    }
   },
   "cell_type": "markdown",
   "metadata": {},
   "source": [
    "# Stochastic, Mini-Batch, Batch Gradient Descent\n",
    "![MBGD-vs-the-rest.png](attachment:MBGD-vs-the-rest.png)\n",
    "\n",
    "#### _Tổng quan_\n",
    "\n",
    "##### 1) (Full) batch gradient descent: đưa toàn bộ X và Y vào để train:\n",
    "\n",
    "Với cách 1, do đưa toàn bộ batch vào nên gradient ở mỗi vòng lặp ổn định. Cách này được khuyến khích sử dụng khi hàm cost của mình biết rõ là convex (không có nhiều hơn 1 điểm tối ưu cục bộ). Tuy nhiên, đối với những hàm phức tạp, thì cách 1 có thể ko bao giờ đạt tối ưu toàn cục được.\n",
    "\n",
    "##### 2) Stochastic gradient descent: đưa từng cặp (x, y) trong data X, Y vào để train :\n",
    "\n",
    "Đối với cách 2, do mình đưa vào từng cặp nên gradient ở mỗi vòng lặp sẽ rất nhiễu (noisy). Chính vì sự nhiễu này mà có trong qúa trình học, nó có thể giúp mô hình vượt qua được các điểm tối ưu cục bộ. Stochastic = random, thể hiện cho sự nhiễu.\n",
    "##### 3) Mini-batch gradient descent: bốc 1 lượng nhiều hơn 1 mẫu từ X, Y để train.\n",
    "\n",
    "Cách 3 là sự kết hợp giữa 1 và 2, cũng là cách dùng nhiều nhất trong deep learning. Trong các bài tới sẽ đề cập sau.\n"
   ]
  },
  {
   "cell_type": "markdown",
   "metadata": {},
   "source": [
    "\n",
    "_Các ví dụ trong bài sẽ xoay quang việc giải quyết bài toán dự báo giá nhà._"
   ]
  },
  {
   "cell_type": "code",
   "execution_count": 2,
   "metadata": {},
   "outputs": [],
   "source": [
    "import numpy as np\n",
    "from numpy import genfromtxt\n",
    "import matplotlib.pyplot as plt"
   ]
  },
  {
   "cell_type": "code",
   "execution_count": 3,
   "metadata": {},
   "outputs": [
    {
     "data": {
      "image/png": "[encoded data removed]",
      "text/plain": [
       "<Figure size 432x288 with 1 Axes>"
      ]
     },
     "metadata": {
      "needs_background": "light"
     },
     "output_type": "display_data"
    }
   ],
   "source": [
    "#doc va xu ly data\n",
    "data = genfromtxt('data/my_house_price_prediction.csv', delimiter=',')\n",
    "\n",
    "X = data[:,0]\n",
    "y = data[:,1:]\n",
    "X_train = np.c_[np.ones((X.shape[0],1)), X]\n",
    "\n",
    "m, n = X_train.shape\n",
    "\n",
    "plt.plot(X, y, 'bo')\n",
    "plt.xlabel('Diện tích nhà (x100$m^2$)')\n",
    "plt.ylabel('Giá nhà (chục lượng  vàng)')\n",
    "plt.show()\n",
    "\n",
    "epoches = 50\n",
    "learning_rate = 0.01"
   ]
  },
  {
   "cell_type": "markdown",
   "metadata": {},
   "source": [
    "### 1. Stochastic Gradient Descent (SGD)\n",
    "\n",
    "Huấn luyện mô hình linear regression theo SGD dùng từng mẫu dữ liệu để cập nhật bộ tham số. Công thức cho các bước trong linear regression theo SGD như sau.\n",
    "\n",
    "- Tính feed forward\n",
    "\n",
    "$$ h_\\theta(x) = \\theta_0x_0 + \\theta_1x_1 + ... + \\theta_nx_n $$\n",
    " \n",
    "\n",
    "- Tính loss\n",
    "\n",
    "$$ J(x,y;\\theta) = (h_\\theta(x)–y)^2$$\n",
    " \n",
    "\n",
    "- Tính đạo hàm cho từng tham số\n",
    "\n",
    "$$ \\frac {\\partial J(x,y;\\theta)}{\\partial \\theta_j} = 2(h_\\theta(x)–y)x_j$$\n",
    " \n",
    "\n",
    "- Cập nhật tham số\n",
    "\n",
    "$$ \\theta_j=\\theta_j – \\alpha \\frac{\\partial J(x,y;\\theta)}{\\partial \\theta_j}$$\n",
    "\n",
    "\n",
    "Áp dụng cho bài toán dự đoán giá nhà: "
   ]
  },
  {
   "cell_type": "code",
   "execution_count": 26,
   "metadata": {},
   "outputs": [],
   "source": [
    "def stochastic_gradient_descent():\n",
    "   \n",
    "    #Initializing parameter\n",
    "    thetas = np.random.randn(n,1)\n",
    "    \n",
    "    thetas_path = [thetas]\n",
    "    losses = []\n",
    "    \n",
    "    for epoch in range(epoches):\n",
    "        for i in range(m):\n",
    "            #put a randomaly sample:\n",
    "            random_index = np.random.randint(m)\n",
    "            x_i = X_train[random_index:random_index+1]\n",
    "            y_i = y[random_index:random_index+1]\n",
    "            \n",
    "            #compute y_hat = theta*X\n",
    "            y_hat = np.dot(x_i, thetas)\n",
    "            \n",
    "            #compute loss_i\n",
    "            loss_i = (y_hat - y_i)**2\n",
    "            \n",
    "            #comput gradient of loss_i\n",
    "            grd_loss_i = 2*(y_hat - y_i)\n",
    "            \n",
    "            #compute gradient\n",
    "            gradients = np.dot(x_i.T,grd_loss_i)\n",
    "            \n",
    "            #update value of theta\n",
    "            thetas = thetas - learning_rate*gradients\n",
    "            \n",
    "            #logging\n",
    "            thetas_path.append(thetas)\n",
    "            losses.append(loss_i[0][0])\n",
    "            \n",
    "    return thetas_path, losses\n",
    "            "
   ]
  },
  {
   "cell_type": "code",
   "execution_count": 24,
   "metadata": {},
   "outputs": [
    {
     "name": "stdout",
     "output_type": "stream",
     "text": [
      "1000\n"
     ]
    },
    {
     "data": {
      "image/png": "[encoded data removed]",
      "text/plain": [
       "<Figure size 432x288 with 1 Axes>"
      ]
     },
     "metadata": {
      "needs_background": "light"
     },
     "output_type": "display_data"
    }
   ],
   "source": [
    "bgd_thetas, losses = stochastic_gradient_descent()\n",
    "\n",
    "print(len(losses))\n",
    "\n",
    "plt.scatter(X,y)\n",
    "data_y = X*bgd_thetas[-1][1] + bgd_thetas[-1][0]\n",
    "plt.plot(X, data_y, color='r')\n",
    "plt.show()"
   ]
  },
  {
   "cell_type": "code",
   "execution_count": 25,
   "metadata": {},
   "outputs": [
    {
     "data": {
      "text/plain": [
       "[<matplotlib.lines.Line2D at 0x7fe918276d30>]"
      ]
     },
     "execution_count": 25,
     "metadata": {},
     "output_type": "execute_result"
    },
    {
     "data": {
      "image/png": "[encoded data removed]",
      "text/plain": [
       "<Figure size 432x288 with 1 Axes>"
      ]
     },
     "metadata": {
      "needs_background": "light"
     },
     "output_type": "display_data"
    }
   ],
   "source": [
    "#plot 200 first value of loss value \n",
    "plt.plot(losses[:])"
   ]
  },
  {
   "cell_type": "markdown",
   "metadata": {},
   "source": [
    "### 3. Batch Gradient Descent (BGD)\n",
    "\n",
    "– Tính feed-forward cho mẫu thứ ith trong bộ dữ liệu\n",
    "\n",
    "$$h_\\theta(x(^{(i)})=\\theta_0x^{(i)}_0 +\\theta_1x^{(i)}_1 + ... +\\theta_nx^{(i)}_n$$\n",
    "– Tính giá trị loss trung bình cho m mẫu dữ liệu\n",
    "\n",
    "$$ \\displaystyle J(\\theta) = \\frac{1}{m}\\sum_{i=1}^{m}(h_\\theta(x^{(i)}) - y^{(i)})^2$$\n",
    "– Tính đạo hàm cho từng tham số\n",
    "\n",
    "$$  \\frac{\\partial J(\\theta)}{\\partial \\theta_j}= \\frac{2}{m}\\sum_{i=1}^{m}(h_\\theta(x^{(i)}) - y^{(i)})x_j^{(i)} $$\n",
    "– Cập nhật tham số\n",
    "\n",
    "$$\\theta_j = \\theta_j - \\alpha \\frac{\\partial J(\\theta)}{\\partial \\theta_j}$$\n",
    "\n",
    "trong đó $\\alpha$ là learning rate  và là giá trị được xác định trước."
   ]
  },
  {
   "cell_type": "code",
   "execution_count": 35,
   "metadata": {},
   "outputs": [],
   "source": [
    "def batch_gradient_descent():\n",
    "    \n",
    "    #Initializing parameter\n",
    "    thetas = np.random.randn(n,1)\n",
    "    \n",
    "    thetas_path = [thetas]\n",
    "    losses = []\n",
    "    \n",
    "    for i in range(epoches):\n",
    "        y_hat = np.dot(X_train, thetas)\n",
    "        \n",
    "        loss = (y_hat - y)**2\n",
    "        \n",
    "        loss_grd = 2*(y_hat - y)/m\n",
    "        \n",
    "        gradients = np.dot(X_train.T, loss_grd)\n",
    "        \n",
    "        thetas = thetas - learning_rate*gradients\n",
    "        thetas_path.append(thetas)\n",
    "        \n",
    "        mean_loss = np.sum(loss)/m\n",
    "        losses.append(mean_loss)\n",
    "        \n",
    "    return thetas_path, losses"
   ]
  },
  {
   "cell_type": "code",
   "execution_count": 36,
   "metadata": {},
   "outputs": [
    {
     "data": {
      "image/png": "[encoded data removed]",
      "text/plain": [
       "<Figure size 432x288 with 1 Axes>"
      ]
     },
     "metadata": {
      "needs_background": "light"
     },
     "output_type": "display_data"
    }
   ],
   "source": [
    "bgd_thetas, losses = batch_gradient_descent()\n",
    "\n",
    "plt.scatter(X, y)\n",
    "data_y = X*bgd_thetas[-1][1]+ bgd_thetas[-1][0]\n",
    "plt.plot(X,data_y, color=\"r\")\n",
    "plt.show()"
   ]
  },
  {
   "cell_type": "code",
   "execution_count": 37,
   "metadata": {},
   "outputs": [
    {
     "data": {
      "text/plain": [
       "[<matplotlib.lines.Line2D at 0x7fe912ec6668>]"
      ]
     },
     "execution_count": 37,
     "metadata": {},
     "output_type": "execute_result"
    },
    {
     "data": {
      "image/png": "[encoded data removed]",
      "text/plain": [
       "<Figure size 432x288 with 1 Axes>"
      ]
     },
     "metadata": {
      "needs_background": "light"
     },
     "output_type": "display_data"
    }
   ],
   "source": [
    "plt.plot(losses[:])"
   ]
  },
  {
   "cell_type": "markdown",
   "metadata": {},
   "source": [
    "### 3. Mini-Batch Gradient Descent (MBGD)\n",
    "\n",
    "MBGD dùng một số mẫu để huấn luyện mô hình. Gọi bs là số lượng mẫu được dùng cho một lần cập nhật tham số, các bước tính cho việc huấn luyện mô hình theo MBGD  như sau\n",
    "\n",
    "– Tính feed-forward cho mẫu thứ ith trong bộ dữ liệu\n",
    "\n",
    "$$h_\\theta(x(^{(i)})=\\theta_0x^{(i)}_0 +\\theta_1x^{(i)}_1 + ... +\\theta_nx^{(i)}_n$$\n",
    "– Tính giá trị loss trung bình cho bs mẫu dữ liệu\n",
    "\n",
    "$$ \\displaystyle J(\\theta) = \\frac{1}{bs}\\sum_{i=1}^{bs}(h_\\theta(x^{(i)}) - y^{(i)})^2$$\n",
    "– Tính đạo hàm cho từng tham số\n",
    "\n",
    "$$  \\frac{\\partial J(\\theta)}{\\partial \\theta_j}= \\frac{2}{bs}\\sum_{i=1}^{bs}(h_\\theta(x^{(i)}) - y^{(i)})x_j^{(i)} $$\n",
    "– Cập nhật tham số\n",
    "\n",
    "$$\\theta_j = \\theta_j - \\alpha \\frac{\\partial J(\\theta)}{\\partial \\theta_j}$$\n",
    "\n",
    "trong đó $\\alpha$ là learning rate  và là giá trị được xác định trước."
   ]
  },
  {
   "cell_type": "code",
   "execution_count": 45,
   "metadata": {},
   "outputs": [],
   "source": [
    "def mini_batch_gradient_descent():\n",
    "    minibatch_size = 5\n",
    "    \n",
    "    thetas = np.random.randn(n, 1)\n",
    "    thetas_path = [thetas]    \n",
    "    losses = []\n",
    "    \n",
    "    for i in range(epoches):\n",
    "        shuffled_indices = np.random.permutation(m)\n",
    "        X_train_shuffled = X_train[shuffled_indices]\n",
    "        y_shuffled = y[shuffled_indices]\n",
    "        \n",
    "        for i in range(0, m, minibatch_size):\n",
    "            x_i = X_train_shuffled[i:i+minibatch_size]\n",
    "            y_i = y_shuffled[i:i+minibatch_size]\n",
    "            \n",
    "            y_hat = np.dot(x_i, thetas)\n",
    "            \n",
    "            loss = (y_hat - y_i)**2\n",
    "            \n",
    "            loss_grd = 2*(y_hat - y_i)/minibatch_size\n",
    "            \n",
    "            gradients = np.dot(x_i.T, loss_grd)\n",
    "            \n",
    "            thetas = thetas - learning_rate*gradients\n",
    "            thetas_path.append(thetas)\n",
    "            \n",
    "            loss_mean = np.sum(loss)/minibatch_size\n",
    "            losses.append(loss_mean)\n",
    "            \n",
    "        return thetas_path, losses           "
   ]
  },
  {
   "cell_type": "code",
   "execution_count": 64,
   "metadata": {},
   "outputs": [
    {
     "data": {
      "image/png": "[encoded data removed]",
      "text/plain": [
       "<Figure size 432x288 with 1 Axes>"
      ]
     },
     "metadata": {
      "needs_background": "light"
     },
     "output_type": "display_data"
    }
   ],
   "source": [
    "mbgd_thetas, losses = mini_batch_gradient_descent()\n",
    "\n",
    "plt.scatter(X,y)\n",
    "data_y = X*mbgd_thetas[-1][1]  + mbgd_thetas[-1][0]\n",
    "plt.plot(X, data_y, color='r')\n",
    "plt.show()"
   ]
  },
  {
   "cell_type": "code",
   "execution_count": 65,
   "metadata": {},
   "outputs": [
    {
     "data": {
      "text/plain": [
       "[<matplotlib.lines.Line2D at 0x7fe912a72320>]"
      ]
     },
     "execution_count": 65,
     "metadata": {},
     "output_type": "execute_result"
    },
    {
     "data": {
      "image/png": "[encoded data removed]",
      "text/plain": [
       "<Figure size 432x288 with 1 Axes>"
      ]
     },
     "metadata": {
      "needs_background": "light"
     },
     "output_type": "display_data"
    }
   ],
   "source": [
    "plt.plot(losses[:])"
   ]
  },
  {
   "cell_type": "code",
   "execution_count": null,
   "metadata": {},
   "outputs": [],
   "source": []
  },
  {
   "cell_type": "code",
   "execution_count": null,
   "metadata": {},
   "outputs": [],
   "source": []
  }
 ],
 "metadata": {
  "kernelspec": {
   "display_name": "Python 3",
   "language": "python",
   "name": "python3"
  },
  "language_info": {
   "codemirror_mode": {
    "name": "ipython",
    "version": 3
   },
   "file_extension": ".py",
   "mimetype": "text/x-python",
   "name": "python",
   "nbconvert_exporter": "python",
   "pygments_lexer": "ipython3",
   "version": "3.7.3"
  }
 },
 "nbformat": 4,
 "nbformat_minor": 2
}
