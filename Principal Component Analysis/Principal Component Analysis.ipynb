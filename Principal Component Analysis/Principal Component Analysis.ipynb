{
 "cells": [
  {
   "cell_type": "markdown",
   "metadata": {},
   "source": [
    "# Principal Component Analysis (PCA)\n",
    "\n",
    "\n",
    "### 1. Giới thiệu về PCA\n",
    "\n",
    "Principal Component Analysis (PCA) là phép phân tích các thành phần chính, là một thuật toán thống kê sử dụng ` phép biến đổi trực giao` để biến đổi tập dữ liệu từ một không gian nhiều chiều sang một không gian mới ít chiều hơn (2 hoặc 3 chiều) nhằm tối ưu hóa việc thể hiện sự biến thiên của dữ liệu.\n",
    "\n",
    "Đây là một trong những kỹ thuật quan trọng trong Machine Learning. Mục tiêu của thuật toán là giảm số chiều của dữ liệu (đây cũng được coi là một phương pháp nén dữ liệu), tối ưu cho việc tính toán và lưu trữ.\n",
    "\n",
    "**Ứng dụng**:\n",
    "\n",
    "- Tìm mối liên hệ giữa các biến trong dữ liệu\n",
    "- Giải thích và trực quan hóa dữ liệu\n",
    "- Khi số lượng biến giảm, PCA làm cho việc phân tích sâu hơn, đơn giản hơn\n",
    "- Thường được sử dụng để mô phỏng khoảng cách di truyền và mối liên hệ giữa các quàn thể.\n",
    "\n",
    "### 2. Các thành phần chính trong PCA\n"
   ]
  },
  {
   "cell_type": "code",
   "execution_count": null,
   "metadata": {},
   "outputs": [],
   "source": []
  }
 ],
 "metadata": {
  "kernelspec": {
   "display_name": "Python 3",
   "language": "python",
   "name": "python3"
  },
  "language_info": {
   "codemirror_mode": {
    "name": "ipython",
    "version": 3
   },
   "file_extension": ".py",
   "mimetype": "text/x-python",
   "name": "python",
   "nbconvert_exporter": "python",
   "pygments_lexer": "ipython3",
   "version": "3.7.4"
  }
 },
 "nbformat": 4,
 "nbformat_minor": 2
}
