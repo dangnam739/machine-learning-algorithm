{
 "cells": [
  {
   "cell_type": "markdown",
   "metadata": {},
   "source": [
    "# <center> Analysis of test  data using K-means Clustering \n",
    "##### <center> _(Phân tích dữ liệu kiểm thử sử dụng Phân cụm K-means)_\n",
    "    \n",
    "\n",
    "### 1. Biểu diễn và tạo dữ liệu kiểm thử"
   ]
  },
  {
   "cell_type": "code",
   "execution_count": null,
   "metadata": {},
   "outputs": [],
   "source": [
    "import numpy as np\n",
    "from matplotlib import pyplot as plt\n",
    "\n",
    "#creating two test data\n",
    "X = np.random.randint(10, 35, (25,2))\n",
    "Y = np.random.randint(55, 70, (25,2))\n",
    "Z = np.vstack((X,Y))\n",
    "Z = Z.reshape((50,2))\n",
    "\n",
    "#convert to np.float32\n",
    "Z = np.float32(Z)\n",
    "\n",
    "\n",
    "plt.xlabel('Test Data')\n",
    "plt.ylabel('Z sample')\n",
    "\n",
    "plt.hist(Z, 256, [0,256])\n",
    "\n",
    "plt.show()"
   ]
  },
  {
   "cell_type": "markdown",
   "metadata": {},
   "source": [
    "- `Z` : mảng có kích thước 100 và các giá trị trong khoảng 0-255, các giá trị thuộc kiểu np.float32"
   ]
  },
  {
   "cell_type": "markdown",
   "metadata": {},
   "source": [
    "### 2. Áp dụng K-means CLustering vào tập dữ liệu trên\n",
    "\n",
    "Các bước thực hiện:\n",
    "\n",
    "- 1. Thiết lập một tập dữ liệu test: test set\n",
    "- 2. Định nghĩa các tiêu chí và sử dụng K-means\n",
    "- 3. Phân tách dữ liệu\n",
    "- 4. Vẽ đồ thị dữ liệu "
   ]
  },
  {
   "cell_type": "code",
   "execution_count": null,
   "metadata": {},
   "outputs": [],
   "source": [
    "import numpy as np\n",
    "import cv2\n",
    "from matplotlib import pyplot as plt"
   ]
  },
  {
   "cell_type": "code",
   "execution_count": null,
   "metadata": {},
   "outputs": [],
   "source": [
    "X = np.random.randint(10,45,(25,2))\n",
    "Y = np.random.randint(55,70,(25,2))\n",
    "Z = np.vstack((X,Y))\n",
    "\n",
    "#convert to np.float32\n",
    "Z = np.float32(Z)\n",
    "\n",
    "#define criteria and apply kmeans()\n",
    "criteria = (cv2.TERM_CRITERIA_ESP + cv2.TERM_CRITERIA_MAX_ITER, 10, 1.0)\n",
    "ret, label, center = cv2.kmeans(Z, 2, None, criteria, 10, cv2.KMEANS_RANDOM_CENTERS)\n",
    "\n",
    "#separate the data\n",
    "A = Z[label.ravel() == 0]\n",
    "B = Z[label.ravel() == 1]\n",
    "\n",
    "#plot the data\n",
    "plt.scatter(A[:,0], A[:,1])\n",
    "plt.scatter(B[:,0], B[:,1], c='r')\n",
    "plt.scatter(center[:,0], center[:,1], s=80, c='y', marker='s')\n",
    "plt.xlabel('Test Data')\n",
    "plt.ylabel('Z samples')\n",
    "\n",
    "plt.show()"
   ]
  },
  {
   "cell_type": "markdown",
   "metadata": {},
   "source": [
    "Các dữ liệu được sử dụng để phân tích như là\n",
    "- Dữ liệu bênh ung thư\n",
    "- Dự đoán thành tích học tập của sinh viên\n",
    "- Hiệu lực của thuốc"
   ]
  },
  {
   "cell_type": "markdown",
   "metadata": {},
   "source": [
    "### Tài liệu tham khảo\n",
    "\n",
    "https://www.geeksforgeeks.org/analysis-of-test-data-using-k-means-clustering-in-python/"
   ]
  },
  {
   "cell_type": "code",
   "execution_count": null,
   "metadata": {},
   "outputs": [],
   "source": []
  }
 ],
 "metadata": {
  "kernelspec": {
   "display_name": "Python 3",
   "language": "python",
   "name": "python3"
  },
  "language_info": {
   "codemirror_mode": {
    "name": "ipython",
    "version": 3
   },
   "file_extension": ".py",
   "mimetype": "text/x-python",
   "name": "python",
   "nbconvert_exporter": "python",
   "pygments_lexer": "ipython3",
   "version": "3.7.3"
  }
 },
 "nbformat": 4,
 "nbformat_minor": 2
}
