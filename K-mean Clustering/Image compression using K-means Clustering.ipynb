{
 "cells": [
  {
   "cell_type": "markdown",
   "metadata": {},
   "source": [
    " # <center> Image compression using K-means Clustering\n",
    " #### <center> _(Nén ảnh sử dụng thuật toán phân cụm K-means)_\n",
    " \n",
    " \n",
    " **Dữ liệu dạng ảnh**: được tạo bởi các giá trị về cường độ gọi là Pixel. Trong một ảnh màu, mỗi pixel có 3 bytes chứa các giá trị RGB(Red-Green-Blue) có giá trị cường độ đỏ sau đó là xanh lam và xanh lá. \n",
    " \n",
    " **Sử dụng K-mean Clustering để nén ảnh**\n",
    " \n",
    "Thuật toán phân cụm K-means sẽ nhóm các màu tương ứng lại với nhau thành các cụm 'k' (ví dụ k = 64) có các màu khác nhau (với giá trị RGB). Vì vậy, mỗi `centroid` đại diện của vector màu RGB của cụm tương ứng. Bây giờ, các trung tâm cụm 'k' sẽ thay thế cho tất cả các màu trong các cụm tương ứng của chúng. Do đó mà chúng ta chỉ cần luwu nhãn cho từng pixel cho đại diện cho cụm mà nó thuộc về.\n",
    "\n",
    "**Code**"
   ]
  },
  {
   "cell_type": "code",
   "execution_count": 1,
   "metadata": {},
   "outputs": [],
   "source": [
    "#Import libraries\n",
    "import imageio\n",
    "import numpy as np\n",
    "import matplotlib.pyplot as plt\n",
    "import matplotlib.image as img\n",
    "from scipy import misc"
   ]
  },
  {
   "cell_type": "code",
   "execution_count": 2,
   "metadata": {},
   "outputs": [],
   "source": [
    "def read_image():\n",
    "    \n",
    "    #loading the png image as a 3d matrix\n",
    "    img = imageio.imread('cat.png')\n",
    "    \n",
    "#     plt.imshow(A)#plotting the image\n",
    "#     plt.show()\n",
    "    \n",
    "    #scaling it so that the values are smalk\n",
    "    img = img/255\n",
    "    \n",
    "    return img"
   ]
  },
  {
   "cell_type": "code",
   "execution_count": 3,
   "metadata": {},
   "outputs": [],
   "source": [
    "def initialize_mean(img, clusters):\n",
    "    #reshaping it or flasttening it into a 2d matrix\n",
    "    points = np.reshape(img, (img.shape[0]*img.shape[1], img.shape[2]))\n",
    "    \n",
    "    m, n = points.shape\n",
    "    \n",
    "    #clusters is the number of clusters\n",
    "    #or the number of coloers the we choose.\n",
    "    \n",
    "    #means is the array of the assumed means or centroids\n",
    "    means = np.zeros((clusters, n))\n",
    "    \n",
    "    #random initialization of means\n",
    "    for i in range(clusters):\n",
    "        rand1 = int(np.random.random(1)*10)\n",
    "        rand2 = int(np.random.random(1)*8)\n",
    "        means[i, 0] = points[rand1, 0]\n",
    "        means[i, 1] = points[rand2, 1]\n",
    "        \n",
    "    return points, means    "
   ]
  },
  {
   "cell_type": "code",
   "execution_count": 4,
   "metadata": {},
   "outputs": [],
   "source": [
    "def distance(x1, y1, x2, y2):\n",
    "    \n",
    "    #function to measure the euclidean distance (distance formular)\n",
    "    \n",
    "    dist = np.square(x1 - x2) + np.square(y1 - y2)\n",
    "    dist = np.sqrt(dist)\n",
    "    \n",
    "    return dist"
   ]
  },
  {
   "cell_type": "code",
   "execution_count": 5,
   "metadata": {},
   "outputs": [],
   "source": [
    "def k_means(points, means, clusters):\n",
    "    iterations = 10 #the number of iterations\n",
    "    m, n = points.shape\n",
    "    \n",
    "    #there arre the index values that correspond to the clusters\n",
    "    #to which eanch pixel belongs to.\n",
    "    index = np.zeros(m)\n",
    "    \n",
    "    #k-means\n",
    "    while(iterations > 0):\n",
    "        \n",
    "        for j in range(len(points)):\n",
    "            \n",
    "            #initialize the minimun value to a large value\n",
    "            minv = 1000\n",
    "            temp = None\n",
    "            \n",
    "            for k in range(clusters):\n",
    "                \n",
    "                x1 = points[j,0]\n",
    "                y1 = points[j,1]\n",
    "                x2 = means[k,0]\n",
    "                y2 = means[k,1]\n",
    "                \n",
    "                if(distance(x1, y1, x2, y2) < minv):\n",
    "                    minv = distance(x1, y1, x2, y2)\n",
    "                    temp = k\n",
    "                    index[j] = k\n",
    "                    \n",
    "            \n",
    "            for k in range(clusters):\n",
    "                \n",
    "                sumx = 0\n",
    "                sumy = 0\n",
    "                count = 0\n",
    "                \n",
    "                for j in range(len(points)):\n",
    "                    \n",
    "                    if (index[j] == k):\n",
    "                        sumx+= points[j,0]\n",
    "                        sumy+= points[j,1]\n",
    "                        count+=1\n",
    "                        \n",
    "                if(count == 0):\n",
    "                    count=1\n",
    "                    \n",
    "                means[k,0] = float(sumx/count)\n",
    "                means[k,1] = float(sumy/count)\n",
    "                \n",
    "            \n",
    "            iterations -= 1\n",
    "        \n",
    "        return means, index"
   ]
  },
  {
   "cell_type": "code",
   "execution_count": 6,
   "metadata": {},
   "outputs": [],
   "source": [
    "def compress_image(means, index, img):\n",
    "    \n",
    "    #recovering the compreesed image by\n",
    "    #assigning each oixel to its corresponding centroid.\n",
    "    centroid = np.array(means)\n",
    "    recovered = centroid[index.astype(int), :]\n",
    "    \n",
    "    #getting back the 3d matrix (row, col, rgb(3))\n",
    "    recovered = np.reshape(recovered, (img.shape[0], img,shape[1], img.shape[2]))\n",
    "    \n",
    "    #plotting the compressed image.\n",
    "    plt.imshow(recovered)\n",
    "    plt.show()\n",
    "    \n",
    "    #saving the compressed image.\n",
    "    misc.imsave('compress_'+str(clusters)+'_color.png', recovered)"
   ]
  },
  {
   "cell_type": "code",
   "execution_count": null,
   "metadata": {},
   "outputs": [
    {
     "name": "stdout",
     "output_type": "stream",
     "text": [
      "Enter the number of coloers in the compressed image. default = 16\n",
      "16\n"
     ]
    }
   ],
   "source": [
    "#driver code\n",
    "if __name__ == '__main__':\n",
    "    \n",
    "    img = read_image()\n",
    "    \n",
    "    clusters = 16\n",
    "    clusters = int(input('Enter the number of coloers in the compressed image. default = 16\\n'))\n",
    "    \n",
    "    points, means = initialize_mean(img, clusters)\n",
    "    means, index = k_means(points, means, clusters)\n",
    "    compress_image(means, index, img)"
   ]
  },
  {
   "cell_type": "code",
   "execution_count": null,
   "metadata": {},
   "outputs": [],
   "source": []
  }
 ],
 "metadata": {
  "kernelspec": {
   "display_name": "Python 3",
   "language": "python",
   "name": "python3"
  },
  "language_info": {
   "codemirror_mode": {
    "name": "ipython",
    "version": 3
   },
   "file_extension": ".py",
   "mimetype": "text/x-python",
   "name": "python",
   "nbconvert_exporter": "python",
   "pygments_lexer": "ipython3",
   "version": "3.7.4"
  }
 },
 "nbformat": 4,
 "nbformat_minor": 2
}
